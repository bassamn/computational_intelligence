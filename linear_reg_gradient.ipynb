{
 "cells": [
  {
   "cell_type": "markdown",
   "id": "6dc9968f",
   "metadata": {},
   "source": [
    "## Libraries"
   ]
  },
  {
   "cell_type": "code",
   "execution_count": 4,
   "id": "61f829af",
   "metadata": {},
   "outputs": [],
   "source": [
    "import numpy as np\n",
    "import random\n",
    "import matplotlib.pyplot as plt"
   ]
  },
  {
   "cell_type": "markdown",
   "id": "abc966b1",
   "metadata": {},
   "source": [
    "## Input points (train datas)"
   ]
  },
  {
   "cell_type": "code",
   "execution_count": 19,
   "id": "40748b82",
   "metadata": {},
   "outputs": [
    {
     "name": "stdout",
     "output_type": "stream",
     "text": [
      "Please enter number of points: 5\n",
      "Please enter 1th x: 1\n",
      "Please enter 2th x: 4\n",
      "Please enter 3th x: 5\n",
      "Please enter 4th x: 7\n",
      "Please enter 5th x: 10\n",
      "Please enter 1th y: 1\n",
      "Please enter 2th y: 3.5\n",
      "Please enter 3th y: 4\n",
      "Please enter 4th y: 7\n",
      "Please enter 5th y: 11\n"
     ]
    }
   ],
   "source": [
    "number_of_train_datas = int(input('Please enter number of points: '))\n",
    "inputs = [None] * number_of_train_datas\n",
    "outputs = [None] * number_of_train_datas\n",
    "\n",
    "for i in range(number_of_train_datas):\n",
    "    temp = float(input(f'Please enter {i+1}th x: '))\n",
    "    inputs[i] = temp\n",
    "    \n",
    "for i in range(number_of_train_datas):\n",
    "    temp = float(input(f'Please enter {i+1}th y: '))\n",
    "    outputs[i] = temp\n",
    "    \n",
    "inputs = np.array(inputs)\n",
    "outputs = np.array(outputs)"
   ]
  },
  {
   "cell_type": "markdown",
   "id": "940e40d3",
   "metadata": {},
   "source": [
    "## Training model (gradient descent)"
   ]
  },
  {
   "cell_type": "code",
   "execution_count": 20,
   "id": "aeb48615",
   "metadata": {},
   "outputs": [],
   "source": [
    "# Activation function: identity function\n",
    "# Iterations: 1000\n",
    "\n",
    "def gradient_descent(x, y):\n",
    "    m_curr = random.uniform(-1, 1)     # W1\n",
    "    b_curr = random.uniform(-1, 1)     # B\n",
    "    iterations = 1000\n",
    "    n = len(x)\n",
    "    etha = 0.001     # learning_rate\n",
    "    \n",
    "    for i in range(iterations):\n",
    "        \n",
    "        y_predicted = m_curr * x + b_curr\n",
    "        \n",
    "        m_derivate = -(2/n) * sum(x*(y - y_predicted))\n",
    "        b_derivate = -(2/n) * sum(y - y_predicted)\n",
    "        \n",
    "        # updating weights\n",
    "        m_curr = m_curr - etha * m_derivate\n",
    "        b_curr = b_curr - etha * b_derivate\n",
    "        \n",
    "        \n",
    "    print(f'm: {m_curr}, b: {b_curr}, iteration: {i}')\n",
    "    return(m_curr, b_curr)"
   ]
  },
  {
   "cell_type": "code",
   "execution_count": 21,
   "id": "065ae6fd",
   "metadata": {},
   "outputs": [
    {
     "name": "stdout",
     "output_type": "stream",
     "text": [
      "m: 1.0522458412920963, b: -0.26165289649104856, iteration: 999\n"
     ]
    }
   ],
   "source": [
    "weights = gradient_descent(inputs, outputs)"
   ]
  },
  {
   "cell_type": "markdown",
   "id": "bbfaa711",
   "metadata": {},
   "source": [
    "## Plot"
   ]
  },
  {
   "cell_type": "code",
   "execution_count": 23,
   "id": "f4eb7644",
   "metadata": {},
   "outputs": [
    {
     "data": {
      "text/plain": [
       "[<matplotlib.lines.Line2D at 0x117244bb0>]"
      ]
     },
     "execution_count": 23,
     "metadata": {},
     "output_type": "execute_result"
    },
    {
     "data": {
      "image/png": "[encoded data removed]",
      "text/plain": [
       "<Figure size 640x480 with 1 Axes>"
      ]
     },
     "metadata": {},
     "output_type": "display_data"
    }
   ],
   "source": [
    "# Model: y = mx + b\n",
    "plt.scatter(inputs, outputs)\n",
    "\n",
    "# Plotting our model (plot a line with 2 points)\n",
    "x_point1 = inputs[-1] + 1\n",
    "x_point2 = inputs[0] - 1\n",
    "y_point1 = weights[0] * x_point1 + weights[1]\n",
    "y_point2 = weights[0] * x_point2 + weights[1]\n",
    "\n",
    "plt.plot([x_point1, x_point2], [y_point1, y_point2], 'r')"
   ]
  }
 ],
 "metadata": {
  "kernelspec": {
   "display_name": "Python 3 (ipykernel)",
   "language": "python",
   "name": "python3"
  },
  "language_info": {
   "codemirror_mode": {
    "name": "ipython",
    "version": 3
   },
   "file_extension": ".py",
   "mimetype": "text/x-python",
   "name": "python",
   "nbconvert_exporter": "python",
   "pygments_lexer": "ipython3",
   "version": "3.10.8"
  }
 },
 "nbformat": 4,
 "nbformat_minor": 5
}
